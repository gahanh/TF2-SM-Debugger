{
 "cells": [
  {
   "cell_type": "markdown",
   "metadata": {
    "colab_type": "text",
    "id": "CCQY7jpBfMur"
   },
   "source": [
    "##### Copyright 2019 The TensorFlow Authors."
   ]
  },
  {
   "cell_type": "code",
   "execution_count": 1,
   "metadata": {
    "cellView": "form",
    "colab": {},
    "colab_type": "code",
    "id": "z6X9omPnfO_h"
   },
   "outputs": [],
   "source": [
    "#@title Licensed under the Apache License, Version 2.0 (the \"License\");\n",
    "# you may not use this file except in compliance with the License.\n",
    "# You may obtain a copy of the License at\n",
    "#\n",
    "# https://www.apache.org/licenses/LICENSE-2.0\n",
    "#\n",
    "# Unless required by applicable law or agreed to in writing, software\n",
    "# distributed under the License is distributed on an \"AS IS\" BASIS,\n",
    "# WITHOUT WARRANTIES OR CONDITIONS OF ANY KIND, either express or implied.\n",
    "# See the License for the specific language governing permissions and\n",
    "# limitations under the License."
   ]
  },
  {
   "cell_type": "markdown",
   "metadata": {
    "colab_type": "text",
    "id": "F1xIRPtY0E1w"
   },
   "source": [
    "# Keras overview"
   ]
  },
  {
   "cell_type": "markdown",
   "metadata": {
    "colab_type": "text",
    "id": "VyOjQZHhZxaA"
   },
   "source": [
    "<table class=\"tfo-notebook-buttons\" align=\"left\">\n",
    "  <td>\n",
    "    <a target=\"_blank\" href=\"https://www.tensorflow.org/guide/keras/overview\"><img src=\"https://www.tensorflow.org/images/tf_logo_32px.png\" />View on TensorFlow.org</a>\n",
    "  </td>\n",
    "  <td>\n",
    "    <a target=\"_blank\" href=\"https://colab.research.google.com/github/tensorflow/docs/blob/master/site/en/guide/keras/overview.ipynb\"><img src=\"https://www.tensorflow.org/images/colab_logo_32px.png\" />Run in Google Colab</a>\n",
    "  </td>\n",
    "  <td>\n",
    "    <a target=\"_blank\" href=\"https://github.com/tensorflow/docs/blob/master/site/en/guide/keras/overview.ipynb\"><img src=\"https://www.tensorflow.org/images/GitHub-Mark-32px.png\" />View source on GitHub</a>\n",
    "  </td>\n",
    "  <td>\n",
    "    <a href=\"https://storage.googleapis.com/tensorflow_docs/docs/site/en/guide/keras/overview.ipynb\"><img src=\"https://www.tensorflow.org/images/download_logo_32px.png\" />Download notebook</a>\n",
    "  </td>\n",
    "</table>"
   ]
  },
  {
   "cell_type": "markdown",
   "metadata": {
    "colab_type": "text",
    "id": "VUJTep_x5-R8"
   },
   "source": [
    "This guide gives you the basics to get started with Keras. It's a 10-minute read."
   ]
  },
  {
   "cell_type": "markdown",
   "metadata": {
    "colab_type": "text",
    "id": "IsK5aF2xZ-40"
   },
   "source": [
    "## Import tf.keras\n",
    "\n",
    "`tf.keras` is TensorFlow's implementation of the\n",
    "[Keras API specification](https://keras.io). This is a high-level\n",
    "API to build and train models that includes first-class support for\n",
    "TensorFlow-specific functionality, such as [eager execution](../eager.ipynb),\n",
    "`tf.data` pipelines, and [Estimators](../estimator.ipynb).\n",
    "`tf.keras` makes TensorFlow easier to use without sacrificing flexibility and\n",
    "performance.\n",
    "\n",
    "To get started, import `tf.keras` as part of your TensorFlow program setup:"
   ]
  },
  {
   "cell_type": "code",
   "execution_count": 2,
   "metadata": {
    "colab": {},
    "colab_type": "code",
    "id": "TgPcBFru0E1z"
   },
   "outputs": [],
   "source": [
    "import tensorflow as tf\n",
    "\n",
    "from tensorflow import keras"
   ]
  },
  {
   "cell_type": "markdown",
   "metadata": {
    "colab_type": "text",
    "id": "lj03RamP0E13"
   },
   "source": [
    "`tf.keras` can run any Keras-compatible code, but keep in mind:\n",
    "\n",
    "* The `tf.keras` version in the latest TensorFlow release might not be the same\n",
    "  as the latest `keras` version from PyPI. Check `tf.keras.__version__`.\n",
    "* When [saving a model's weights](./save_and_serialize.ipynb), `tf.keras` defaults to the\n",
    "  [checkpoint format](../checkpoint.ipynb). Pass `save_format='h5'` to\n",
    "  use HDF5 (or pass a filename that ends in `.h5`)."
   ]
  },
  {
   "cell_type": "markdown",
   "metadata": {
    "colab_type": "text",
    "id": "7e1LPcXx0gR6"
   },
   "source": [
    "## Build a simple model\n",
    "\n",
    "### Sequential model\n",
    "\n",
    "In Keras, you assemble *layers* to build *models*. A model is (usually) a graph\n",
    "of layers. The most common type of model is a stack of layers: the\n",
    "`tf.keras.Sequential` model.\n",
    "\n",
    "To build a simple, fully-connected network (i.e. multi-layer perceptron):"
   ]
  },
  {
   "cell_type": "code",
   "execution_count": 3,
   "metadata": {
    "colab": {},
    "colab_type": "code",
    "id": "WM-DUVQB0E14"
   },
   "outputs": [],
   "source": [
    "from tensorflow.keras import layers\n",
    "\n",
    "model = tf.keras.Sequential()\n",
    "# Adds a densely-connected layer with 64 units to the model:\n",
    "model.add(layers.Dense(64, activation='relu'))\n",
    "# Add another:\n",
    "model.add(layers.Dense(64, activation='relu'))\n",
    "# Add an output layer with 10 output units:\n",
    "model.add(layers.Dense(10))"
   ]
  },
  {
   "cell_type": "markdown",
   "metadata": {
    "colab_type": "text",
    "id": "I2oH0-cxH7YA"
   },
   "source": [
    "You can find a complete, short example of how to use Sequential models [here](https://www.tensorflow.org/tutorials/quickstart/beginner).\n",
    "\n",
    "To learn about building more advanced models than Sequential models, see:\n",
    "- [Guide to the Keras Functional API](./functional.ipynb)\n",
    "- [Guide to writing layers and models from scratch with subclassing](./custom_layers_and_models.ipynb)"
   ]
  },
  {
   "cell_type": "markdown",
   "metadata": {
    "colab_type": "text",
    "id": "-ztyTipu0E18"
   },
   "source": [
    "### Configure the layers\n",
    "\n",
    "There are many `tf.keras.layers` available. Most of them share some common constructor\n",
    "arguments:\n",
    "\n",
    "* `activation`: Set the activation function for the layer. This parameter is\n",
    "  specified by the name of a built-in function or as a callable object. By\n",
    "  default, no activation is applied.\n",
    "* `kernel_initializer` and `bias_initializer`: The initialization schemes\n",
    "  that create the layer's weights (kernel and bias). This parameter is a name or\n",
    "  a callable object. The kernel defaults to the `\"Glorot uniform\"` initializer, \n",
    "  and the bias defaults to zeros.\n",
    "* `kernel_regularizer` and `bias_regularizer`: The regularization schemes\n",
    "  that apply the layer's weights (kernel and bias), such as L1 or L2\n",
    "  regularization. By default, no regularization is applied.\n",
    "\n",
    "The following instantiates `tf.keras.layers.Dense` layers using constructor\n",
    "arguments:"
   ]
  },
  {
   "cell_type": "code",
   "execution_count": 4,
   "metadata": {
    "colab": {},
    "colab_type": "code",
    "id": "MlL7PBtp0E19"
   },
   "outputs": [
    {
     "data": {
      "text/plain": [
       "<tensorflow.python.keras.layers.core.Dense at 0x7fe0b74baf98>"
      ]
     },
     "execution_count": 4,
     "metadata": {},
     "output_type": "execute_result"
    }
   ],
   "source": [
    "# Create a relu layer:\n",
    "layers.Dense(64, activation='relu')\n",
    "# Or:\n",
    "layers.Dense(64, activation=tf.nn.relu)\n",
    "\n",
    "# A linear layer with L1 regularization of factor 0.01 applied to the kernel matrix:\n",
    "layers.Dense(64, kernel_regularizer=tf.keras.regularizers.l1(0.01))\n",
    "\n",
    "# A linear layer with L2 regularization of factor 0.01 applied to the bias vector:\n",
    "layers.Dense(64, bias_regularizer=tf.keras.regularizers.l2(0.01))\n",
    "\n",
    "# A linear layer with a kernel initialized to a random orthogonal matrix:\n",
    "layers.Dense(64, kernel_initializer='orthogonal')\n",
    "\n",
    "# A linear layer with a bias vector initialized to 2.0s:\n",
    "layers.Dense(64, bias_initializer=tf.keras.initializers.Constant(2.0))"
   ]
  },
  {
   "cell_type": "markdown",
   "metadata": {
    "colab_type": "text",
    "id": "9NR6reyk0E2A"
   },
   "source": [
    "## Train and evaluate\n",
    "\n",
    "### Set up training\n",
    "\n",
    "After the model is constructed, configure its learning process by calling the\n",
    "`compile` method:"
   ]
  },
  {
   "cell_type": "code",
   "execution_count": 5,
   "metadata": {
    "colab": {},
    "colab_type": "code",
    "id": "sJ4AOn090E2A"
   },
   "outputs": [
    {
     "name": "stdout",
     "output_type": "stream",
     "text": [
      "WARNING:tensorflow:From /home/ec2-user/anaconda3/envs/tensorflow_p36/lib/python3.6/site-packages/tensorflow_core/python/ops/resource_variable_ops.py:1630: calling BaseResourceVariable.__init__ (from tensorflow.python.ops.resource_variable_ops) with constraint is deprecated and will be removed in a future version.\n",
      "Instructions for updating:\n",
      "If using Keras pass *_constraint arguments to layers.\n"
     ]
    }
   ],
   "source": [
    "model = tf.keras.Sequential([\n",
    "# Adds a densely-connected layer with 64 units to the model:\n",
    "layers.Dense(64, activation='relu', input_shape=(32,)),\n",
    "# Add another:\n",
    "layers.Dense(64, activation='relu'),\n",
    "# Add an output layer with 10 output units:\n",
    "layers.Dense(10)])\n",
    "\n",
    "model.compile(optimizer=tf.keras.optimizers.Adam(0.01),\n",
    "              loss=tf.keras.losses.CategoricalCrossentropy(from_logits=True),\n",
    "              metrics=['accuracy'])"
   ]
  },
  {
   "cell_type": "markdown",
   "metadata": {
    "colab_type": "text",
    "id": "HG-RAa9F0E2D"
   },
   "source": [
    "`tf.keras.Model.compile` takes three important arguments:\n",
    "\n",
    "* `optimizer`: This object specifies the training procedure. Pass it optimizer\n",
    "  instances from the `tf.keras.optimizers` module, such as\n",
    "  `tf.keras.optimizers.Adam` or\n",
    "  `tf.keras.optimizers.SGD`. If you just want to use the default parameters, you can also specify optimizers via strings, such as `'adam'` or `'sgd'`.\n",
    "* `loss`: The function to minimize during optimization. Common choices include\n",
    "  mean square error (`mse`), `categorical_crossentropy`, and\n",
    "  `binary_crossentropy`. Loss functions are specified by name or by\n",
    "  passing a callable object from the `tf.keras.losses` module.\n",
    "* `metrics`: Used to monitor training. These are string names or callables from\n",
    "  the `tf.keras.metrics` module.\n",
    "* Additionally, to make sure the model trains and evaluates eagerly, you can make sure to pass `run_eagerly=True` as a parameter to compile.\n",
    "\n",
    "\n",
    "The following shows a few examples of configuring a model for training:"
   ]
  },
  {
   "cell_type": "code",
   "execution_count": 6,
   "metadata": {
    "colab": {},
    "colab_type": "code",
    "id": "St4Mgdar0E2E"
   },
   "outputs": [],
   "source": [
    "# Configure a model for mean-squared error regression.\n",
    "model.compile(optimizer=tf.keras.optimizers.Adam(0.01),\n",
    "              loss='mse',       # mean squared error\n",
    "              metrics=['mae'])  # mean absolute error\n",
    "\n",
    "# Configure a model for categorical classification.\n",
    "model.compile(optimizer=tf.keras.optimizers.RMSprop(0.01),\n",
    "              loss=tf.keras.losses.CategoricalCrossentropy(from_logits=True),\n",
    "              metrics=['accuracy'])"
   ]
  },
  {
   "cell_type": "markdown",
   "metadata": {
    "colab_type": "text",
    "id": "yjI5rbi80E2G"
   },
   "source": [
    "### Train from NumPy data\n",
    "\n",
    "For small datasets, use in-memory [NumPy](https://www.numpy.org/)\n",
    "arrays to train and evaluate a model. The model is \"fit\" to the training data\n",
    "using the `fit` method:"
   ]
  },
  {
   "cell_type": "code",
   "execution_count": 6,
   "metadata": {
    "colab": {},
    "colab_type": "code",
    "id": "3CvP6L-m0E2I"
   },
   "outputs": [
    {
     "name": "stdout",
     "output_type": "stream",
     "text": [
      "Train on 1000 samples\n",
      "WARNING:tensorflow:OMP_NUM_THREADS is no longer used by the default Keras config. To configure the number of threads, use tf.config.threading APIs.\n",
      "Epoch 1/10\n",
      "1000/1000 [==============================] - 0s 275us/sample - loss: 57.8783 - acc: 0.0880\n",
      "Epoch 2/10\n",
      "1000/1000 [==============================] - 0s 98us/sample - loss: 268.1582 - acc: 0.1060\n",
      "Epoch 3/10\n",
      "1000/1000 [==============================] - 0s 113us/sample - loss: 880.1472 - acc: 0.0890\n",
      "Epoch 4/10\n",
      "1000/1000 [==============================] - 0s 110us/sample - loss: 2363.2006 - acc: 0.1100\n",
      "Epoch 5/10\n",
      "1000/1000 [==============================] - 0s 132us/sample - loss: 5946.8446 - acc: 0.0910\n",
      "Epoch 6/10\n",
      "1000/1000 [==============================] - 0s 123us/sample - loss: 10485.1677 - acc: 0.1200\n",
      "Epoch 7/10\n",
      "1000/1000 [==============================] - 0s 116us/sample - loss: 12039.1040 - acc: 0.1070\n",
      "Epoch 8/10\n",
      "1000/1000 [==============================] - 0s 121us/sample - loss: 19355.8533 - acc: 0.1070\n",
      "Epoch 9/10\n",
      "1000/1000 [==============================] - 0s 119us/sample - loss: 24756.1298 - acc: 0.1070\n",
      "Epoch 10/10\n",
      "1000/1000 [==============================] - 0s 103us/sample - loss: 26231.7248 - acc: 0.1020\n"
     ]
    },
    {
     "data": {
      "text/plain": [
       "<tensorflow.python.keras.callbacks.History at 0x7fe0b07ce710>"
      ]
     },
     "execution_count": 6,
     "metadata": {},
     "output_type": "execute_result"
    }
   ],
   "source": [
    "import numpy as np\n",
    "\n",
    "data = np.random.random((1000, 32))\n",
    "labels = np.random.random((1000, 10))\n",
    "\n",
    "model.fit(data, labels, epochs=10, batch_size=32)"
   ]
  },
  {
   "cell_type": "markdown",
   "metadata": {
    "colab_type": "text",
    "id": "N-pnVaFe0E2N"
   },
   "source": [
    "`tf.keras.Model.fit` takes three important arguments:\n",
    "\n",
    "* `epochs`: Training is structured into *epochs*. An epoch is one iteration over\n",
    "  the entire input data (this is done in smaller batches).\n",
    "* `batch_size`: When passed NumPy data, the model slices the data into smaller\n",
    "  batches and iterates over these batches during training. This integer\n",
    "  specifies the size of each batch. Be aware that the last batch may be smaller\n",
    "  if the total number of samples is not divisible by the batch size.\n",
    "* `validation_data`: When prototyping a model, you want to easily monitor its\n",
    "  performance on some validation data. Passing this argument—a tuple of inputs\n",
    "  and labels—allows the model to display the loss and metrics in inference mode\n",
    "  for the passed data, at the end of each epoch.\n",
    "\n",
    "Here's an example using `validation_data`:"
   ]
  },
  {
   "cell_type": "code",
   "execution_count": 7,
   "metadata": {
    "colab": {},
    "colab_type": "code",
    "id": "gFcXzVQa0E2N"
   },
   "outputs": [
    {
     "name": "stdout",
     "output_type": "stream",
     "text": [
      "Train on 1000 samples, validate on 100 samples\n",
      "Epoch 1/10\n",
      "1000/1000 [==============================] - 0s 186us/sample - loss: 33435.2523 - acc: 0.1050 - val_loss: 26396.3943 - val_acc: 0.0600\n",
      "Epoch 2/10\n",
      "1000/1000 [==============================] - 0s 105us/sample - loss: 43837.4126 - acc: 0.1080 - val_loss: 45688.4697 - val_acc: 0.0600\n",
      "Epoch 3/10\n",
      "1000/1000 [==============================] - 0s 98us/sample - loss: 59132.8763 - acc: 0.0960 - val_loss: 57897.8402 - val_acc: 0.1100\n",
      "Epoch 4/10\n",
      "1000/1000 [==============================] - 0s 109us/sample - loss: 68182.0259 - acc: 0.1160 - val_loss: 94920.4522 - val_acc: 0.1000\n",
      "Epoch 5/10\n",
      "1000/1000 [==============================] - 0s 100us/sample - loss: 92510.5814 - acc: 0.0880 - val_loss: 109705.1047 - val_acc: 0.1100\n",
      "Epoch 6/10\n",
      "1000/1000 [==============================] - 0s 103us/sample - loss: 90546.2409 - acc: 0.0970 - val_loss: 97987.9044 - val_acc: 0.1100\n",
      "Epoch 7/10\n",
      "1000/1000 [==============================] - 0s 116us/sample - loss: 101096.1109 - acc: 0.0970 - val_loss: 113295.0566 - val_acc: 0.1000\n",
      "Epoch 8/10\n",
      "1000/1000 [==============================] - 0s 114us/sample - loss: 109758.4336 - acc: 0.0950 - val_loss: 74501.7363 - val_acc: 0.1100\n",
      "Epoch 9/10\n",
      "1000/1000 [==============================] - 0s 131us/sample - loss: 97495.6520 - acc: 0.1040 - val_loss: 104529.3897 - val_acc: 0.1300\n",
      "Epoch 10/10\n",
      "1000/1000 [==============================] - 0s 110us/sample - loss: 131554.8249 - acc: 0.1000 - val_loss: 124997.1875 - val_acc: 0.1300\n"
     ]
    },
    {
     "data": {
      "text/plain": [
       "<tensorflow.python.keras.callbacks.History at 0x7fe0ac17cb00>"
      ]
     },
     "execution_count": 7,
     "metadata": {},
     "output_type": "execute_result"
    }
   ],
   "source": [
    "import numpy as np\n",
    "\n",
    "data = np.random.random((1000, 32))\n",
    "labels = np.random.random((1000, 10))\n",
    "\n",
    "val_data = np.random.random((100, 32))\n",
    "val_labels = np.random.random((100, 10))\n",
    "\n",
    "model.fit(data, labels, epochs=10, batch_size=32,\n",
    "          validation_data=(val_data, val_labels))"
   ]
  },
  {
   "cell_type": "markdown",
   "metadata": {
    "colab_type": "text",
    "id": "-6ImyXzz0E2Q"
   },
   "source": [
    "### Train from tf.data datasets\n",
    "\n",
    "Use the [Datasets API](../data.ipynb) to scale to large datasets\n",
    "or multi-device training. Pass a `tf.data.Dataset` instance to the `fit`\n",
    "method:"
   ]
  },
  {
   "cell_type": "code",
   "execution_count": 8,
   "metadata": {
    "colab": {},
    "colab_type": "code",
    "id": "OziqhpIj0E2R"
   },
   "outputs": [
    {
     "name": "stdout",
     "output_type": "stream",
     "text": [
      "WARNING:tensorflow:Expected a shuffled dataset but input dataset `x` is not shuffled. Please invoke `shuffle()` on input dataset.\n",
      "Train on 32 steps\n",
      "Epoch 1/10\n",
      "32/32 [==============================] - 0s 8ms/step - loss: 113054.1655 - acc: 0.0980\n",
      "Epoch 2/10\n",
      "32/32 [==============================] - 0s 4ms/step - loss: 198394.3301 - acc: 0.0940\n",
      "Epoch 3/10\n",
      "32/32 [==============================] - 0s 3ms/step - loss: 233805.5723 - acc: 0.0780\n",
      "Epoch 4/10\n",
      "32/32 [==============================] - 0s 3ms/step - loss: 221544.5400 - acc: 0.1000\n",
      "Epoch 5/10\n",
      "32/32 [==============================] - 0s 3ms/step - loss: 200797.5674 - acc: 0.1060\n",
      "Epoch 6/10\n",
      "32/32 [==============================] - 0s 3ms/step - loss: 220190.4014 - acc: 0.0880\n",
      "Epoch 7/10\n",
      "32/32 [==============================] - 0s 3ms/step - loss: 277466.6729 - acc: 0.1040\n",
      "Epoch 8/10\n",
      "32/32 [==============================] - 0s 3ms/step - loss: 325647.0796 - acc: 0.0960\n",
      "Epoch 9/10\n",
      "32/32 [==============================] - 0s 3ms/step - loss: 285330.5845 - acc: 0.1020\n",
      "Epoch 10/10\n",
      "32/32 [==============================] - 0s 3ms/step - loss: 307187.1479 - acc: 0.0820\n"
     ]
    },
    {
     "data": {
      "text/plain": [
       "<tensorflow.python.keras.callbacks.History at 0x7fe0afe989b0>"
      ]
     },
     "execution_count": 8,
     "metadata": {},
     "output_type": "execute_result"
    }
   ],
   "source": [
    "# Instantiates a toy dataset instance:\n",
    "dataset = tf.data.Dataset.from_tensor_slices((data, labels))\n",
    "dataset = dataset.batch(32)\n",
    "\n",
    "model.fit(dataset, epochs=10)"
   ]
  },
  {
   "cell_type": "markdown",
   "metadata": {
    "colab_type": "text",
    "id": "I7BcMHkB0E2U"
   },
   "source": [
    "Since the `Dataset` yields batches of data, this snippet does not require a `batch_size`.\n",
    "\n",
    "Datasets can also be used for validation:"
   ]
  },
  {
   "cell_type": "code",
   "execution_count": 9,
   "metadata": {
    "colab": {},
    "colab_type": "code",
    "id": "YPMb3A0N0E2V"
   },
   "outputs": [
    {
     "name": "stdout",
     "output_type": "stream",
     "text": [
      "WARNING:tensorflow:Expected a shuffled dataset but input dataset `x` is not shuffled. Please invoke `shuffle()` on input dataset.\n",
      "Train on 32 steps, validate on 4 steps\n",
      "Epoch 1/10\n",
      "32/32 [==============================] - 0s 11ms/step - loss: 324586.3896 - acc: 0.1020 - val_loss: 191016.7656 - val_acc: 0.0600\n",
      "Epoch 2/10\n",
      "32/32 [==============================] - 0s 3ms/step - loss: 245081.7437 - acc: 0.1010 - val_loss: 328870.4609 - val_acc: 0.1300\n",
      "Epoch 3/10\n",
      "32/32 [==============================] - 0s 3ms/step - loss: 374589.0449 - acc: 0.1080 - val_loss: 275045.9922 - val_acc: 0.1100\n",
      "Epoch 4/10\n",
      "32/32 [==============================] - 0s 3ms/step - loss: 387798.9004 - acc: 0.1110 - val_loss: 192681.8320 - val_acc: 0.1100\n",
      "Epoch 5/10\n",
      "32/32 [==============================] - 0s 4ms/step - loss: 326535.4663 - acc: 0.0910 - val_loss: 390813.0391 - val_acc: 0.0600\n",
      "Epoch 6/10\n",
      "32/32 [==============================] - 0s 4ms/step - loss: 391437.2100 - acc: 0.1110 - val_loss: 582690.6875 - val_acc: 0.0900\n",
      "Epoch 7/10\n",
      "32/32 [==============================] - 0s 3ms/step - loss: 453599.6357 - acc: 0.0900 - val_loss: 299087.7656 - val_acc: 0.0600\n",
      "Epoch 8/10\n",
      "32/32 [==============================] - 0s 4ms/step - loss: 434780.7129 - acc: 0.0930 - val_loss: 354688.6953 - val_acc: 0.1300\n",
      "Epoch 9/10\n",
      "32/32 [==============================] - 0s 4ms/step - loss: 454281.5674 - acc: 0.0940 - val_loss: 562608.8750 - val_acc: 0.1300\n",
      "Epoch 10/10\n",
      "32/32 [==============================] - 0s 3ms/step - loss: 435748.8613 - acc: 0.1130 - val_loss: 445333.8047 - val_acc: 0.0600\n"
     ]
    },
    {
     "data": {
      "text/plain": [
       "<tensorflow.python.keras.callbacks.History at 0x7fe0ac17cf28>"
      ]
     },
     "execution_count": 9,
     "metadata": {},
     "output_type": "execute_result"
    }
   ],
   "source": [
    "dataset = tf.data.Dataset.from_tensor_slices((data, labels))\n",
    "dataset = dataset.batch(32)\n",
    "\n",
    "val_dataset = tf.data.Dataset.from_tensor_slices((val_data, val_labels))\n",
    "val_dataset = val_dataset.batch(32)\n",
    "\n",
    "model.fit(dataset, epochs=10,\n",
    "          validation_data=val_dataset)"
   ]
  },
  {
   "cell_type": "markdown",
   "metadata": {
    "colab_type": "text",
    "id": "IgGdlXso0E2X"
   },
   "source": [
    "### Evaluate and predict\n",
    "\n",
    "The `tf.keras.Model.evaluate` and `tf.keras.Model.predict` methods can use NumPy\n",
    "data and a `tf.data.Dataset`.\n",
    "\n",
    "Here's how to *evaluate* the inference-mode loss and metrics for the data provided:"
   ]
  },
  {
   "cell_type": "code",
   "execution_count": 10,
   "metadata": {
    "colab": {},
    "colab_type": "code",
    "id": "mhDbOHEK0E2Y"
   },
   "outputs": [
    {
     "name": "stdout",
     "output_type": "stream",
     "text": [
      "1000/1000 [==============================] - 0s 128us/sample - loss: 434891.7388 - acc: 0.1240\n",
      "32/32 [==============================] - 0s 4ms/step - loss: 433274.7881 - acc: 0.1240\n"
     ]
    },
    {
     "data": {
      "text/plain": [
       "[433274.7880859375, 0.124]"
      ]
     },
     "execution_count": 10,
     "metadata": {},
     "output_type": "execute_result"
    }
   ],
   "source": [
    "# With Numpy arrays\n",
    "data = np.random.random((1000, 32))\n",
    "labels = np.random.random((1000, 10))\n",
    "\n",
    "model.evaluate(data, labels, batch_size=32)\n",
    "\n",
    "# With a Dataset\n",
    "dataset = tf.data.Dataset.from_tensor_slices((data, labels))\n",
    "dataset = dataset.batch(32)\n",
    "\n",
    "model.evaluate(dataset)"
   ]
  },
  {
   "cell_type": "markdown",
   "metadata": {
    "colab_type": "text",
    "id": "UXUTmDfb0E2b"
   },
   "source": [
    "And here's how to *predict* the output of the last layer in inference for the data provided,\n",
    "as a NumPy array:"
   ]
  },
  {
   "cell_type": "code",
   "execution_count": 11,
   "metadata": {
    "colab": {},
    "colab_type": "code",
    "id": "9e3JsSoQ0E2c"
   },
   "outputs": [
    {
     "name": "stdout",
     "output_type": "stream",
     "text": [
      "(1000, 10)\n"
     ]
    }
   ],
   "source": [
    "result = model.predict(data, batch_size=32)\n",
    "print(result.shape)"
   ]
  },
  {
   "cell_type": "markdown",
   "metadata": {
    "colab_type": "text",
    "id": "GuTb71gYILLG"
   },
   "source": [
    "For a complete guide on training and evaluation, including how to write custom training loops from scratch, see the [guide to training and evaluation](./train_and_evaluate.ipynb)."
   ]
  },
  {
   "cell_type": "markdown",
   "metadata": {
    "colab_type": "text",
    "id": "fzEOW4Cn0E2h"
   },
   "source": [
    "## Build complex models\n",
    "\n",
    "### The Functional API\n",
    "\n",
    " The `tf.keras.Sequential` model is a simple stack of layers that cannot\n",
    "represent arbitrary models. Use the\n",
    "[Keras functional API](./functional.ipynb)\n",
    "to build complex model topologies such as:\n",
    "\n",
    "* Multi-input models,\n",
    "* Multi-output models,\n",
    "* Models with shared layers (the same layer called several times),\n",
    "* Models with non-sequential data flows (e.g. residual connections).\n",
    "\n",
    "Building a model with the functional API works like this:\n",
    "\n",
    "1. A layer instance is callable and returns a tensor.\n",
    "2. Input tensors and output tensors are used to define a `tf.keras.Model`\n",
    "   instance.\n",
    "3. This model is trained just like the `Sequential` model.\n",
    "\n",
    "The following example uses the functional API to build a simple, fully-connected\n",
    "network:"
   ]
  },
  {
   "cell_type": "code",
   "execution_count": 13,
   "metadata": {
    "colab": {},
    "colab_type": "code",
    "id": "mROj832r0E2i"
   },
   "outputs": [],
   "source": [
    "inputs = tf.keras.Input(shape=(32,))  # Returns an input placeholder\n",
    "\n",
    "# A layer instance is callable on a tensor, and returns a tensor.\n",
    "x = layers.Dense(64, activation='relu')(inputs)\n",
    "x = layers.Dense(64, activation='relu')(x)\n",
    "predictions = layers.Dense(10)(x)"
   ]
  },
  {
   "cell_type": "markdown",
   "metadata": {
    "colab_type": "text",
    "id": "AFmspHeG1_W7"
   },
   "source": [
    "Instantiate the model given inputs and outputs."
   ]
  },
  {
   "cell_type": "code",
   "execution_count": 14,
   "metadata": {
    "colab": {},
    "colab_type": "code",
    "id": "5k5uzlyu16HM"
   },
   "outputs": [
    {
     "name": "stdout",
     "output_type": "stream",
     "text": [
      "Train on 1000 samples\n",
      "Epoch 1/5\n",
      "1000/1000 [==============================] - 0s 383us/sample - loss: 12.9059 - accuracy: 0.0890\n",
      "Epoch 2/5\n",
      "1000/1000 [==============================] - 0s 72us/sample - loss: 21.3660 - accuracy: 0.0880\n",
      "Epoch 3/5\n",
      "1000/1000 [==============================] - 0s 74us/sample - loss: 34.6242 - accuracy: 0.1020\n",
      "Epoch 4/5\n",
      "1000/1000 [==============================] - 0s 77us/sample - loss: 46.5124 - accuracy: 0.1100\n",
      "Epoch 5/5\n",
      "1000/1000 [==============================] - 0s 73us/sample - loss: 60.8220 - accuracy: 0.0840\n"
     ]
    },
    {
     "data": {
      "text/plain": [
       "<tensorflow.python.keras.callbacks.History at 0x7f56403f3710>"
      ]
     },
     "execution_count": 14,
     "metadata": {},
     "output_type": "execute_result"
    }
   ],
   "source": [
    "model = tf.keras.Model(inputs=inputs, outputs=predictions)\n",
    "\n",
    "# The compile step specifies the training configuration.\n",
    "model.compile(optimizer=tf.keras.optimizers.RMSprop(0.001),\n",
    "              loss=tf.keras.losses.CategoricalCrossentropy(from_logits=True),\n",
    "              metrics=['accuracy'])\n",
    "\n",
    "# Trains for 5 epochs\n",
    "model.fit(data, labels, batch_size=32, epochs=5)"
   ]
  },
  {
   "cell_type": "code",
   "execution_count": null,
   "metadata": {},
   "outputs": [],
   "source": []
  }
 ],
 "metadata": {
  "colab": {
   "collapsed_sections": [],
   "name": "overview.ipynb",
   "private_outputs": true,
   "provenance": [],
   "toc_visible": true
  },
  "kernelspec": {
   "display_name": "conda_tensorflow_p36",
   "language": "python",
   "name": "conda_tensorflow_p36"
  },
  "language_info": {
   "codemirror_mode": {
    "name": "ipython",
    "version": 3
   },
   "file_extension": ".py",
   "mimetype": "text/x-python",
   "name": "python",
   "nbconvert_exporter": "python",
   "pygments_lexer": "ipython3",
   "version": "3.6.6"
  }
 },
 "nbformat": 4,
 "nbformat_minor": 1
}
