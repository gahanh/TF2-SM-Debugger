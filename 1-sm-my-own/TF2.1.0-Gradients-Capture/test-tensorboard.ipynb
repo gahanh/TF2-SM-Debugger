{
 "cells": [
  {
   "cell_type": "markdown",
   "metadata": {},
   "source": [
    "This notebook is designed to demonstrate the following,\n",
    "\n",
    "1. How to laod TensorBoard\n",
    "2. How to copy TensorBoard data generated and stored in s3 using sm-use-tf.ipynb to a local folder.\n",
    "3. How to point TensorBoard to the local directory\n",
    "4. Use url of a Notebook to display TensorBoard\n",
    "\n",
    "https://demo-sm-latest.notebook.ap-south-1.sagemaker.aws/proxy/6006/\n"
   ]
  },
  {
   "cell_type": "code",
   "execution_count": 1,
   "metadata": {},
   "outputs": [],
   "source": [
    "# Load the TensorBoard notebook extension\n",
    "%load_ext tensorboard"
   ]
  },
  {
   "cell_type": "code",
   "execution_count": 2,
   "metadata": {},
   "outputs": [
    {
     "name": "stdout",
     "output_type": "stream",
     "text": [
      "download: s3://ml-pipeline-1511/tensorboard/smdebug-sm-tf-2020-05-14-08-33-27-901/tensorboard-output/TRAIN/000000000063_23_ip-10-0-182-158.ap-south-1.compute.internal.tfevents to tensorboard/TRAIN/000000000063_23_ip-10-0-182-158.ap-south-1.compute.internal.tfevents\n",
      "download: s3://ml-pipeline-1511/tensorboard/smdebug-sm-tf-2020-05-14-08-33-27-901/tensorboard-output/TRAIN/000000000191_23_ip-10-0-182-158.ap-south-1.compute.internal.tfevents to tensorboard/TRAIN/000000000191_23_ip-10-0-182-158.ap-south-1.compute.internal.tfevents\n",
      "download: s3://ml-pipeline-1511/tensorboard/smdebug-sm-tf-2020-05-14-08-33-27-901/tensorboard-output/TRAIN/000000000031_23_ip-10-0-182-158.ap-south-1.compute.internal.tfevents to tensorboard/TRAIN/000000000031_23_ip-10-0-182-158.ap-south-1.compute.internal.tfevents\n",
      "download: s3://ml-pipeline-1511/tensorboard/smdebug-sm-tf-2020-05-14-08-33-27-901/tensorboard-output/TRAIN/000000000100_23_ip-10-0-182-158.ap-south-1.compute.internal.tfevents to tensorboard/TRAIN/000000000100_23_ip-10-0-182-158.ap-south-1.compute.internal.tfevents\n",
      "download: s3://ml-pipeline-1511/tensorboard/smdebug-sm-tf-2020-05-14-08-33-27-901/tensorboard-output/TRAIN/000000000095_23_ip-10-0-182-158.ap-south-1.compute.internal.tfevents to tensorboard/TRAIN/000000000095_23_ip-10-0-182-158.ap-south-1.compute.internal.tfevents\n",
      "download: s3://ml-pipeline-1511/tensorboard/smdebug-sm-tf-2020-05-14-08-33-27-901/tensorboard-output/TRAIN/000000000127_23_ip-10-0-182-158.ap-south-1.compute.internal.tfevents to tensorboard/TRAIN/000000000127_23_ip-10-0-182-158.ap-south-1.compute.internal.tfevents\n",
      "download: s3://ml-pipeline-1511/tensorboard/smdebug-sm-tf-2020-05-14-08-33-27-901/tensorboard-output/TRAIN/000000000200_23_ip-10-0-182-158.ap-south-1.compute.internal.tfevents to tensorboard/TRAIN/000000000200_23_ip-10-0-182-158.ap-south-1.compute.internal.tfevents\n",
      "download: s3://ml-pipeline-1511/tensorboard/smdebug-sm-tf-2020-05-14-08-33-27-901/tensorboard-output/TRAIN/000000000159_23_ip-10-0-182-158.ap-south-1.compute.internal.tfevents to tensorboard/TRAIN/000000000159_23_ip-10-0-182-158.ap-south-1.compute.internal.tfevents\n",
      "download: s3://ml-pipeline-1511/tensorboard/smdebug-sm-tf-2020-05-14-08-33-27-901/tensorboard-output/TRAIN/000000000255_23_ip-10-0-182-158.ap-south-1.compute.internal.tfevents to tensorboard/TRAIN/000000000255_23_ip-10-0-182-158.ap-south-1.compute.internal.tfevents\n",
      "download: s3://ml-pipeline-1511/tensorboard/smdebug-sm-tf-2020-05-14-08-33-27-901/tensorboard-output/TRAIN/000000000000_23_ip-10-0-182-158.ap-south-1.compute.internal.tfevents to tensorboard/TRAIN/000000000000_23_ip-10-0-182-158.ap-south-1.compute.internal.tfevents\n",
      "download: s3://ml-pipeline-1511/tensorboard/smdebug-sm-tf-2020-05-14-08-33-27-901/tensorboard-output/TRAIN/000000000223_23_ip-10-0-182-158.ap-south-1.compute.internal.tfevents to tensorboard/TRAIN/000000000223_23_ip-10-0-182-158.ap-south-1.compute.internal.tfevents\n",
      "download: s3://ml-pipeline-1511/tensorboard/smdebug-sm-tf-2020-05-14-08-33-27-901/tensorboard-output/TRAIN/000000000287_23_ip-10-0-182-158.ap-south-1.compute.internal.tfevents to tensorboard/TRAIN/000000000287_23_ip-10-0-182-158.ap-south-1.compute.internal.tfevents\n",
      "download: s3://ml-pipeline-1511/tensorboard/smdebug-sm-tf-2020-05-14-08-33-27-901/tensorboard-output/TRAIN/000000000300_23_ip-10-0-182-158.ap-south-1.compute.internal.tfevents to tensorboard/TRAIN/000000000300_23_ip-10-0-182-158.ap-south-1.compute.internal.tfevents\n",
      "download: s3://ml-pipeline-1511/tensorboard/smdebug-sm-tf-2020-05-14-08-33-27-901/tensorboard-output/TRAIN/000000000319_23_ip-10-0-182-158.ap-south-1.compute.internal.tfevents to tensorboard/TRAIN/000000000319_23_ip-10-0-182-158.ap-south-1.compute.internal.tfevents\n"
     ]
    }
   ],
   "source": [
    "! aws s3 cp --recursive s3://ml-pipeline-1511/tensorboard/smdebug-sm-tf-2020-05-14-08-33-27-901/tensorboard-output ./tensorboard"
   ]
  },
  {
   "cell_type": "code",
   "execution_count": 3,
   "metadata": {},
   "outputs": [
    {
     "data": {
      "text/html": [
       "\n",
       "      <iframe id=\"tensorboard-frame-667b6e5ec71845e1\" width=\"100%\" height=\"800\" frameborder=\"0\">\n",
       "      </iframe>\n",
       "      <script>\n",
       "        (function() {\n",
       "          const frame = document.getElementById(\"tensorboard-frame-667b6e5ec71845e1\");\n",
       "          const url = new URL(\"/\", window.location);\n",
       "          url.port = 6006;\n",
       "          frame.src = url;\n",
       "        })();\n",
       "      </script>\n",
       "  "
      ],
      "text/plain": [
       "<IPython.core.display.HTML object>"
      ]
     },
     "metadata": {},
     "output_type": "display_data"
    }
   ],
   "source": [
    "%tensorboard --logdir=/home/ec2-user/SageMaker/1-sm-my-own/TF2.1.0-Gradients-Capture/tensorboard/"
   ]
  },
  {
   "cell_type": "code",
   "execution_count": 1,
   "metadata": {},
   "outputs": [
    {
     "name": "stdout",
     "output_type": "stream",
     "text": [
      "ec2-user  6490  6359  0 14:12 pts/0    00:00:00 /bin/sh -c  ps -ef | grep tensorboard\n",
      "ec2-user  6492  6490  0 14:12 pts/0    00:00:00 grep tensorboard\n"
     ]
    }
   ],
   "source": [
    "! ps -ef | grep tensorboard"
   ]
  },
  {
   "cell_type": "code",
   "execution_count": 12,
   "metadata": {},
   "outputs": [
    {
     "name": "stdout",
     "output_type": "stream",
     "text": [
      "/bin/sh: line 0: kill: (20743) - No such process\n"
     ]
    }
   ],
   "source": [
    "!kill -9 20743\n"
   ]
  },
  {
   "cell_type": "code",
   "execution_count": null,
   "metadata": {},
   "outputs": [],
   "source": []
  }
 ],
 "metadata": {
  "kernelspec": {
   "display_name": "conda_tensorflow_p36",
   "language": "python",
   "name": "conda_tensorflow_p36"
  },
  "language_info": {
   "codemirror_mode": {
    "name": "ipython",
    "version": 3
   },
   "file_extension": ".py",
   "mimetype": "text/x-python",
   "name": "python",
   "nbconvert_exporter": "python",
   "pygments_lexer": "ipython3",
   "version": "3.6.6"
  }
 },
 "nbformat": 4,
 "nbformat_minor": 4
}
